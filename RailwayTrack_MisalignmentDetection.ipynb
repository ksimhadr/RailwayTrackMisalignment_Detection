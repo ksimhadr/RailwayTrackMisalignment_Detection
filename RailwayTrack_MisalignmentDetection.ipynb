{
  "cells": [
    {
      "cell_type": "code",
      "execution_count": null,
      "metadata": {
        "colab": {
          "base_uri": "https://localhost:8080/"
        },
        "collapsed": true,
        "id": "wZECHeM-MWLs",
        "outputId": "daedc6b5-c80a-46ea-901e-fcb945234193"
      },
      "outputs": [
        {
          "name": "stdout",
          "output_type": "stream",
          "text": [
            "Archive:  /content/NewR22.zip\n",
            "   creating: NewR22/\n",
            "   creating: NewR22/test/\n",
            "   creating: NewR22/test/Defective/\n",
            "  inflating: NewR22/test/Defective/118.jpg  \n",
            "  inflating: NewR22/test/Defective/122.jpg  \n",
            "  inflating: NewR22/test/Defective/251.jpg  \n",
            "  inflating: NewR22/test/Defective/253.jpg  \n",
            "  inflating: NewR22/test/Defective/256.jpg  \n",
            "  inflating: NewR22/test/Defective/257.jpg  \n",
            "  inflating: NewR22/test/Defective/258.jpg  \n",
            "  inflating: NewR22/test/Defective/259.jpg  \n",
            "  inflating: NewR22/test/Defective/260.jpg  \n",
            "  inflating: NewR22/test/Defective/261.jpg  \n",
            "  inflating: NewR22/test/Defective/262.jpg  \n",
            "  inflating: NewR22/test/Defective/265.jpg  \n",
            "  inflating: NewR22/test/Defective/266.jpg  \n",
            "  inflating: NewR22/test/Defective/267.jpg  \n",
            "  inflating: NewR22/test/Defective/268.jpg  \n",
            "  inflating: NewR22/test/Defective/269.jpg  \n",
            "  inflating: NewR22/test/Defective/270.jpg  \n",
            "  inflating: NewR22/test/Defective/271.jpg  \n",
            "  inflating: NewR22/test/Defective/272.jpg  \n",
            "  inflating: NewR22/test/Defective/273.jpg  \n",
            "  inflating: NewR22/test/Defective/274.jpg  \n",
            "  inflating: NewR22/test/Defective/275.jpg  \n",
            "  inflating: NewR22/test/Defective/277.jpg  \n",
            "  inflating: NewR22/test/Defective/278.jpg  \n",
            "  inflating: NewR22/test/Defective/279.jpg  \n",
            "  inflating: NewR22/test/Defective/280.jpg  \n",
            "  inflating: NewR22/test/Defective/282 - Copy.jpg  \n",
            "  inflating: NewR22/test/Defective/282.jpg  \n",
            "  inflating: NewR22/test/Defective/283.jpg  \n",
            "  inflating: NewR22/test/Defective/285.jpg  \n",
            "  inflating: NewR22/test/Defective/286.jpg  \n",
            "  inflating: NewR22/test/Defective/288.jpg  \n",
            "  inflating: NewR22/test/Defective/289.jpg  \n",
            "  inflating: NewR22/test/Defective/290.jpg  \n",
            "  inflating: NewR22/test/Defective/291.jpg  \n",
            "  inflating: NewR22/test/Defective/292.jpg  \n",
            "  inflating: NewR22/test/Defective/293.jpg  \n",
            "  inflating: NewR22/test/Defective/294.jpg  \n",
            "  inflating: NewR22/test/Defective/295.jpg  \n",
            "  inflating: NewR22/test/Defective/296.jpg  \n",
            "  inflating: NewR22/test/Defective/298.jpg  \n",
            "  inflating: NewR22/test/Defective/299.jpg  \n",
            "  inflating: NewR22/test/Defective/301.jpg  \n",
            "  inflating: NewR22/test/Defective/302 - Copy.jpg  \n",
            "  inflating: NewR22/test/Defective/302.jpg  \n",
            "  inflating: NewR22/test/Defective/303.jpg  \n",
            "  inflating: NewR22/test/Defective/304 - Copy.jpg  \n",
            "  inflating: NewR22/test/Defective/304.jpg  \n",
            "  inflating: NewR22/test/Defective/306.jpg  \n",
            "  inflating: NewR22/test/Defective/307 - Copy.jpg  \n",
            "  inflating: NewR22/test/Defective/307.jpg  \n",
            "  inflating: NewR22/test/Defective/309.jpg  \n",
            "  inflating: NewR22/test/Defective/310.jpg  \n",
            "  inflating: NewR22/test/Defective/311.jpg  \n",
            "  inflating: NewR22/test/Defective/nh1.JPG  \n",
            "   creating: NewR22/test/Normal/\n",
            "  inflating: NewR22/test/Normal/107.jpg  \n",
            "  inflating: NewR22/test/Normal/110.jpg  \n",
            "  inflating: NewR22/test/Normal/113.jpg  \n",
            "  inflating: NewR22/test/Normal/114.jpg  \n",
            "  inflating: NewR22/test/Normal/117.jpg  \n",
            "  inflating: NewR22/test/Normal/260.jpg  \n",
            "  inflating: NewR22/test/Normal/261.jpg  \n",
            "  inflating: NewR22/test/Normal/263.jpg  \n",
            "  inflating: NewR22/test/Normal/264.jpg  \n",
            "  inflating: NewR22/test/Normal/265.jpg  \n",
            "  inflating: NewR22/test/Normal/266.jpg  \n",
            "  inflating: NewR22/test/Normal/268.jpg  \n",
            "  inflating: NewR22/test/Normal/269.jpg  \n",
            "  inflating: NewR22/test/Normal/271.jpg  \n",
            "  inflating: NewR22/test/Normal/272.jpg  \n",
            "  inflating: NewR22/test/Normal/274.jpg  \n",
            "  inflating: NewR22/test/Normal/276.jpg  \n",
            "  inflating: NewR22/test/Normal/277.jpg  \n",
            "  inflating: NewR22/test/Normal/278.jpg  \n",
            "  inflating: NewR22/test/Normal/279.jpg  \n",
            "  inflating: NewR22/test/Normal/28.jpg  \n",
            "  inflating: NewR22/test/Normal/280.jpg  \n",
            "  inflating: NewR22/test/Normal/281.jpg  \n",
            "  inflating: NewR22/test/Normal/282.jpg  \n",
            "  inflating: NewR22/test/Normal/284.jpg  \n",
            "  inflating: NewR22/test/Normal/285.jpg  \n",
            "  inflating: NewR22/test/Normal/286.jpg  \n",
            "  inflating: NewR22/test/Normal/288.jpg  \n",
            "  inflating: NewR22/test/Normal/289.jpg  \n",
            "  inflating: NewR22/test/Normal/292.jpg  \n",
            "  inflating: NewR22/test/Normal/295.jpg  \n",
            "  inflating: NewR22/test/Normal/296.jpg  \n",
            "  inflating: NewR22/test/Normal/297.jpg  \n",
            "  inflating: NewR22/test/Normal/298.jpg  \n",
            "  inflating: NewR22/test/Normal/33.jpg  \n",
            "  inflating: NewR22/test/Normal/365.jpg  \n",
            "  inflating: NewR22/test/Normal/369.jpg  \n",
            "  inflating: NewR22/test/Normal/371.jpg  \n",
            "  inflating: NewR22/test/Normal/373.jpg  \n",
            "  inflating: NewR22/test/Normal/378.jpg  \n",
            "  inflating: NewR22/test/Normal/381.jpg  \n",
            "  inflating: NewR22/test/Normal/382.jpg  \n",
            "  inflating: NewR22/test/Normal/383.jpg  \n",
            "  inflating: NewR22/test/Normal/385.jpg  \n",
            "  inflating: NewR22/test/Normal/387 - Copy.jpg  \n",
            "  inflating: NewR22/test/Normal/387.jpg  \n",
            "  inflating: NewR22/test/Normal/388.jpg  \n",
            "  inflating: NewR22/test/Normal/389.jpg  \n",
            "  inflating: NewR22/test/Normal/390.jpg  \n",
            "  inflating: NewR22/test/Normal/391.jpg  \n",
            "  inflating: NewR22/test/Normal/393.jpg  \n",
            "  inflating: NewR22/test/Normal/395.jpg  \n",
            "  inflating: NewR22/test/Normal/398 - Copy.jpg  \n",
            "  inflating: NewR22/test/Normal/398.jpg  \n",
            "  inflating: NewR22/test/Normal/399.jpg  \n",
            "  inflating: NewR22/test/Normal/401.jpg  \n",
            "   creating: NewR22/train/\n",
            "   creating: NewR22/train/Defective/\n",
            "  inflating: NewR22/train/Defective/0.jpg  \n",
            "  inflating: NewR22/train/Defective/1.jpg  \n",
            "  inflating: NewR22/train/Defective/10.jpg  \n",
            "  inflating: NewR22/train/Defective/100.jpg  \n",
            "  inflating: NewR22/train/Defective/101.jpg  \n",
            "  inflating: NewR22/train/Defective/102.jpg  \n",
            "  inflating: NewR22/train/Defective/103 (2).jpg  \n",
            "  inflating: NewR22/train/Defective/104 (2).jpg  \n",
            "  inflating: NewR22/train/Defective/104.jpg  \n",
            "  inflating: NewR22/train/Defective/105.jpg  \n",
            "  inflating: NewR22/train/Defective/106.jpg  \n",
            "  inflating: NewR22/train/Defective/107 (2).jpg  \n",
            "  inflating: NewR22/train/Defective/107.jpg  \n",
            "  inflating: NewR22/train/Defective/109.jpg  \n",
            "  inflating: NewR22/train/Defective/11.jpg  \n",
            "  inflating: NewR22/train/Defective/110 (2).jpg  \n",
            "  inflating: NewR22/train/Defective/110.jpg  \n",
            "  inflating: NewR22/train/Defective/111.jpg  \n",
            "  inflating: NewR22/train/Defective/112.jpg  \n",
            "  inflating: NewR22/train/Defective/113 (2).jpg  \n",
            "  inflating: NewR22/train/Defective/113.jpg  \n",
            "  inflating: NewR22/train/Defective/114.jpg  \n",
            "  inflating: NewR22/train/Defective/115.jpg  \n",
            "  inflating: NewR22/train/Defective/117 (2).jpg  \n",
            "  inflating: NewR22/train/Defective/118.jpg  \n",
            "  inflating: NewR22/train/Defective/119.jpg  \n",
            "  inflating: NewR22/train/Defective/121.jpg  \n",
            "  inflating: NewR22/train/Defective/122.jpg  \n",
            "  inflating: NewR22/train/Defective/125.jpg  \n",
            "  inflating: NewR22/train/Defective/126.jpg  \n",
            "  inflating: NewR22/train/Defective/128.jpg  \n",
            "  inflating: NewR22/train/Defective/129.jpg  \n",
            "  inflating: NewR22/train/Defective/130.jpg  \n",
            "  inflating: NewR22/train/Defective/132.jpg  \n",
            "  inflating: NewR22/train/Defective/133.jpg  \n",
            "  inflating: NewR22/train/Defective/136.jpg  \n",
            "  inflating: NewR22/train/Defective/138.jpg  \n",
            "  inflating: NewR22/train/Defective/14 - Copy.jpg  \n",
            "  inflating: NewR22/train/Defective/14.jpg  \n",
            "  inflating: NewR22/train/Defective/141.jpg  \n",
            "  inflating: NewR22/train/Defective/142.jpg  \n",
            "  inflating: NewR22/train/Defective/143.jpg  \n",
            "  inflating: NewR22/train/Defective/147.jpg  \n",
            "  inflating: NewR22/train/Defective/15.jpg  \n",
            "  inflating: NewR22/train/Defective/150.jpg  \n",
            "  inflating: NewR22/train/Defective/152.jpg  \n",
            "  inflating: NewR22/train/Defective/155.jpg  \n",
            "  inflating: NewR22/train/Defective/156.jpg  \n",
            "  inflating: NewR22/train/Defective/157.jpg  \n",
            "  inflating: NewR22/train/Defective/159 - Copy.jpg  \n",
            "  inflating: NewR22/train/Defective/160.jpg  \n",
            "  inflating: NewR22/train/Defective/161.jpg  \n",
            "  inflating: NewR22/train/Defective/163.jpg  \n",
            "  inflating: NewR22/train/Defective/164.jpg  \n",
            "  inflating: NewR22/train/Defective/165.jpg  \n",
            "  inflating: NewR22/train/Defective/166.jpg  \n",
            "  inflating: NewR22/train/Defective/167.jpg  \n",
            "  inflating: NewR22/train/Defective/17.jpg  \n",
            "  inflating: NewR22/train/Defective/170.jpg  \n",
            "  inflating: NewR22/train/Defective/171.jpg  \n",
            "  inflating: NewR22/train/Defective/172.jpg  \n",
            "  inflating: NewR22/train/Defective/173.jpg  \n",
            "  inflating: NewR22/train/Defective/174.jpg  \n",
            "  inflating: NewR22/train/Defective/175.jpg  \n",
            "  inflating: NewR22/train/Defective/177.jpg  \n",
            "  inflating: NewR22/train/Defective/179.jpg  \n",
            "  inflating: NewR22/train/Defective/18.jpg  \n",
            "  inflating: NewR22/train/Defective/180.jpg  \n",
            "  inflating: NewR22/train/Defective/181.jpg  \n",
            "  inflating: NewR22/train/Defective/183.jpg  \n",
            "  inflating: NewR22/train/Defective/184.jpg  \n",
            "  inflating: NewR22/train/Defective/185.jpg  \n",
            "  inflating: NewR22/train/Defective/186.jpg  \n",
            "  inflating: NewR22/train/Defective/187.jpg  \n",
            "  inflating: NewR22/train/Defective/188.jpg  \n",
            "  inflating: NewR22/train/Defective/189.jpg  \n",
            "  inflating: NewR22/train/Defective/19.jpg  \n",
            "  inflating: NewR22/train/Defective/190.jpg  \n",
            "  inflating: NewR22/train/Defective/191.jpg  \n",
            "  inflating: NewR22/train/Defective/192.jpg  \n",
            "  inflating: NewR22/train/Defective/196.jpg  \n",
            "  inflating: NewR22/train/Defective/197.jpg  \n",
            "  inflating: NewR22/train/Defective/198.jpg  \n",
            "  inflating: NewR22/train/Defective/199.jpg  \n",
            "  inflating: NewR22/train/Defective/2.jpg  \n",
            "  inflating: NewR22/train/Defective/20.jpg  \n",
            "  inflating: NewR22/train/Defective/200.jpg  \n",
            "  inflating: NewR22/train/Defective/201.jpg  \n",
            "  inflating: NewR22/train/Defective/202.jpg  \n",
            "  inflating: NewR22/train/Defective/204.jpg  \n",
            "  inflating: NewR22/train/Defective/205.jpg  \n",
            "  inflating: NewR22/train/Defective/206.jpg  \n",
            "  inflating: NewR22/train/Defective/207.jpg  \n",
            "  inflating: NewR22/train/Defective/208.jpg  \n",
            "  inflating: NewR22/train/Defective/209.jpg  \n",
            "  inflating: NewR22/train/Defective/210.jpg  \n",
            "  inflating: NewR22/train/Defective/211.jpg  \n",
            "  inflating: NewR22/train/Defective/212.jpg  \n",
            "  inflating: NewR22/train/Defective/214.jpg  \n",
            "  inflating: NewR22/train/Defective/215.jpg  \n",
            "  inflating: NewR22/train/Defective/216.jpg  \n",
            "  inflating: NewR22/train/Defective/22.jpg  \n",
            "  inflating: NewR22/train/Defective/220.jpg  \n",
            "  inflating: NewR22/train/Defective/221.jpg  \n",
            "  inflating: NewR22/train/Defective/222.jpg  \n",
            "  inflating: NewR22/train/Defective/226.jpg  \n",
            "  inflating: NewR22/train/Defective/227.jpg  \n",
            "  inflating: NewR22/train/Defective/228.jpg  \n",
            "  inflating: NewR22/train/Defective/229.jpg  \n",
            "  inflating: NewR22/train/Defective/23.jpg  \n",
            "  inflating: NewR22/train/Defective/231.jpg  \n",
            "  inflating: NewR22/train/Defective/232.jpg  \n",
            "  inflating: NewR22/train/Defective/234.jpg  \n",
            "  inflating: NewR22/train/Defective/236.jpg  \n",
            "  inflating: NewR22/train/Defective/237.jpg  \n",
            "  inflating: NewR22/train/Defective/238.jpg  \n",
            "  inflating: NewR22/train/Defective/24.jpg  \n",
            "  inflating: NewR22/train/Defective/241.jpg  \n",
            "  inflating: NewR22/train/Defective/244.jpg  \n",
            "  inflating: NewR22/train/Defective/246.jpg  \n",
            "  inflating: NewR22/train/Defective/247.jpg  \n",
            "  inflating: NewR22/train/Defective/249.jpg  \n",
            "  inflating: NewR22/train/Defective/26.jpg  \n",
            "  inflating: NewR22/train/Defective/260.jpg  \n",
            "  inflating: NewR22/train/Defective/27.jpg  \n",
            "  inflating: NewR22/train/Defective/29.jpg  \n",
            "  inflating: NewR22/train/Defective/3.jpg  \n",
            "  inflating: NewR22/train/Defective/31.jpg  \n",
            "  inflating: NewR22/train/Defective/32.jpg  \n",
            "  inflating: NewR22/train/Defective/332.jpg  \n",
            "  inflating: NewR22/train/Defective/34.jpg  \n",
            "  inflating: NewR22/train/Defective/35.jpg  \n",
            "  inflating: NewR22/train/Defective/39.jpg  \n",
            "  inflating: NewR22/train/Defective/4.jpg  \n",
            "  inflating: NewR22/train/Defective/40.jpg  \n",
            "  inflating: NewR22/train/Defective/41.jpg  \n",
            "  inflating: NewR22/train/Defective/415.jpg  \n",
            "  inflating: NewR22/train/Defective/418.jpg  \n",
            "  inflating: NewR22/train/Defective/43.jpg  \n",
            "  inflating: NewR22/train/Defective/44.jpg  \n",
            "  inflating: NewR22/train/Defective/45.jpg  \n",
            "  inflating: NewR22/train/Defective/46.jpg  \n",
            "  inflating: NewR22/train/Defective/47.jpg  \n",
            "  inflating: NewR22/train/Defective/48.jpg  \n",
            "  inflating: NewR22/train/Defective/49.jpg  \n",
            "  inflating: NewR22/train/Defective/51.jpg  \n",
            "  inflating: NewR22/train/Defective/517.jpg  \n",
            "  inflating: NewR22/train/Defective/52 (2).jpg  \n",
            "  inflating: NewR22/train/Defective/52.jpg  \n",
            "  inflating: NewR22/train/Defective/525.jpg  \n",
            "  inflating: NewR22/train/Defective/528.jpg  \n",
            "  inflating: NewR22/train/Defective/529.jpg  \n",
            "  inflating: NewR22/train/Defective/53.jpg  \n",
            "  inflating: NewR22/train/Defective/530.jpg  \n",
            "  inflating: NewR22/train/Defective/531.jpg  \n",
            "  inflating: NewR22/train/Defective/532.jpg  \n",
            "  inflating: NewR22/train/Defective/533.jpg  \n",
            "  inflating: NewR22/train/Defective/534.jpg  \n",
            "  inflating: NewR22/train/Defective/535.jpg  \n",
            "  inflating: NewR22/train/Defective/536.jpg  \n",
            "  inflating: NewR22/train/Defective/537.jpg  \n",
            "  inflating: NewR22/train/Defective/538.jpg  \n",
            "  inflating: NewR22/train/Defective/54.jpg  \n",
            "  inflating: NewR22/train/Defective/540.jpg  \n",
            "  inflating: NewR22/train/Defective/542.jpg  \n",
            "  inflating: NewR22/train/Defective/543.jpg  \n",
            "  inflating: NewR22/train/Defective/544.jpg  \n",
            "  inflating: NewR22/train/Defective/545.jpg  \n",
            "  inflating: NewR22/train/Defective/546.jpg  \n",
            "  inflating: NewR22/train/Defective/547.jpg  \n",
            "  inflating: NewR22/train/Defective/55 (2).jpg  \n",
            "  inflating: NewR22/train/Defective/55.jpg  \n",
            "  inflating: NewR22/train/Defective/551.jpg  \n",
            "  inflating: NewR22/train/Defective/552.jpg  \n",
            "  inflating: NewR22/train/Defective/553.jpg  \n",
            "  inflating: NewR22/train/Defective/554.jpg  \n",
            "  inflating: NewR22/train/Defective/555.jpg  \n",
            "  inflating: NewR22/train/Defective/556.jpg  \n",
            "  inflating: NewR22/train/Defective/557.jpg  \n",
            "  inflating: NewR22/train/Defective/558.jpg  \n",
            "  inflating: NewR22/train/Defective/559.jpg  \n",
            "  inflating: NewR22/train/Defective/56.jpg  \n",
            "  inflating: NewR22/train/Defective/560.jpg  \n",
            "  inflating: NewR22/train/Defective/562.jpg  \n",
            "  inflating: NewR22/train/Defective/563.jpg  \n",
            "  inflating: NewR22/train/Defective/565.jpg  \n",
            "  inflating: NewR22/train/Defective/567.jpg  \n",
            "  inflating: NewR22/train/Defective/568.jpg  \n",
            "  inflating: NewR22/train/Defective/57.jpg  \n",
            "  inflating: NewR22/train/Defective/58.jpg  \n",
            "  inflating: NewR22/train/Defective/59.jpg  \n",
            "  inflating: NewR22/train/Defective/60.jpg  \n",
            "  inflating: NewR22/train/Defective/61.jpg  \n",
            "  inflating: NewR22/train/Defective/63.jpg  \n",
            "  inflating: NewR22/train/Defective/64.jpg  \n",
            "  inflating: NewR22/train/Defective/65.jpg  \n",
            "  inflating: NewR22/train/Defective/67.jpg  \n",
            "  inflating: NewR22/train/Defective/71.jpg  \n",
            "  inflating: NewR22/train/Defective/72 (2).jpg  \n",
            "  inflating: NewR22/train/Defective/72.jpg  \n",
            "  inflating: NewR22/train/Defective/73 (2).jpg  \n",
            "  inflating: NewR22/train/Defective/73.jpg  \n",
            "  inflating: NewR22/train/Defective/75.jpg  \n",
            "  inflating: NewR22/train/Defective/76.jpg  \n",
            "  inflating: NewR22/train/Defective/8.jpg  \n",
            "  inflating: NewR22/train/Defective/80.jpg  \n",
            "  inflating: NewR22/train/Defective/81 (2).jpg  \n",
            "  inflating: NewR22/train/Defective/81.jpg  \n",
            "  inflating: NewR22/train/Defective/82.jpg  \n",
            "  inflating: NewR22/train/Defective/85.jpg  \n",
            "  inflating: NewR22/train/Defective/86.jpg  \n",
            "  inflating: NewR22/train/Defective/87.jpg  \n",
            "  inflating: NewR22/train/Defective/9.jpg  \n",
            "  inflating: NewR22/train/Defective/90.jpg  \n",
            "  inflating: NewR22/train/Defective/91 (2).jpg  \n",
            "  inflating: NewR22/train/Defective/92.jpg  \n",
            "  inflating: NewR22/train/Defective/93.jpg  \n",
            "  inflating: NewR22/train/Defective/94.jpg  \n",
            "  inflating: NewR22/train/Defective/96.jpg  \n",
            "  inflating: NewR22/train/Defective/98.jpg  \n",
            "  inflating: NewR22/train/Defective/99.jpg  \n",
            "   creating: NewR22/train/Normal/\n",
            "  inflating: NewR22/train/Normal/1.jpg  \n",
            "  inflating: NewR22/train/Normal/100.jpg  \n",
            "  inflating: NewR22/train/Normal/101.jpg  \n",
            "  inflating: NewR22/train/Normal/103.jpg  \n",
            "  inflating: NewR22/train/Normal/104.jpg  \n",
            "  inflating: NewR22/train/Normal/105.jpg  \n",
            "  inflating: NewR22/train/Normal/107.jpg  \n",
            "  inflating: NewR22/train/Normal/108.jpg  \n",
            "  inflating: NewR22/train/Normal/109.jpg  \n",
            "  inflating: NewR22/train/Normal/110.jpg  \n",
            "  inflating: NewR22/train/Normal/111.jpg  \n",
            "  inflating: NewR22/train/Normal/112.jpg  \n",
            "  inflating: NewR22/train/Normal/114.jpg  \n",
            "  inflating: NewR22/train/Normal/115.jpg  \n",
            "  inflating: NewR22/train/Normal/116.jpg  \n",
            "  inflating: NewR22/train/Normal/117.jpg  \n",
            "  inflating: NewR22/train/Normal/118.jpg  \n",
            "  inflating: NewR22/train/Normal/119.jpg  \n",
            "  inflating: NewR22/train/Normal/12.jpg  \n",
            "  inflating: NewR22/train/Normal/120.jpg  \n",
            "  inflating: NewR22/train/Normal/121.jpg  \n",
            "  inflating: NewR22/train/Normal/122.jpg  \n",
            "  inflating: NewR22/train/Normal/123.jpg  \n",
            "  inflating: NewR22/train/Normal/124.jpg  \n",
            "  inflating: NewR22/train/Normal/126.jpg  \n",
            "  inflating: NewR22/train/Normal/128.jpg  \n",
            "  inflating: NewR22/train/Normal/129.jpg  \n",
            "  inflating: NewR22/train/Normal/13.jpg  \n",
            "  inflating: NewR22/train/Normal/130.jpg  \n",
            "  inflating: NewR22/train/Normal/131.jpg  \n",
            "  inflating: NewR22/train/Normal/132.jpg  \n",
            "  inflating: NewR22/train/Normal/133.jpg  \n",
            "  inflating: NewR22/train/Normal/134.jpg  \n",
            "  inflating: NewR22/train/Normal/135.jpg  \n",
            "  inflating: NewR22/train/Normal/136.jpg  \n",
            "  inflating: NewR22/train/Normal/137.jpg  \n",
            "  inflating: NewR22/train/Normal/138.jpg  \n",
            "  inflating: NewR22/train/Normal/139.jpg  \n",
            "  inflating: NewR22/train/Normal/140.jpg  \n",
            "  inflating: NewR22/train/Normal/141.jpg  \n",
            "  inflating: NewR22/train/Normal/142.jpg  \n",
            "  inflating: NewR22/train/Normal/143.jpg  \n",
            "  inflating: NewR22/train/Normal/145.jpg  \n",
            "  inflating: NewR22/train/Normal/146.jpg  \n",
            "  inflating: NewR22/train/Normal/147.jpg  \n",
            "  inflating: NewR22/train/Normal/148.jpg  \n",
            "  inflating: NewR22/train/Normal/149.jpg  \n",
            "  inflating: NewR22/train/Normal/15.jpg  \n",
            "  inflating: NewR22/train/Normal/153.jpg  \n",
            "  inflating: NewR22/train/Normal/155.jpg  \n",
            "  inflating: NewR22/train/Normal/156.jpg  \n",
            "  inflating: NewR22/train/Normal/157.jpg  \n",
            "  inflating: NewR22/train/Normal/159.jpg  \n",
            "  inflating: NewR22/train/Normal/16.jpg  \n",
            "  inflating: NewR22/train/Normal/161.jpg  \n",
            "  inflating: NewR22/train/Normal/162.jpg  \n",
            "  inflating: NewR22/train/Normal/163.jpg  \n",
            "  inflating: NewR22/train/Normal/164.jpg  \n",
            "  inflating: NewR22/train/Normal/165.jpg  \n",
            "  inflating: NewR22/train/Normal/166.jpg  \n",
            "  inflating: NewR22/train/Normal/167.jpg  \n",
            "  inflating: NewR22/train/Normal/168.jpg  \n",
            "  inflating: NewR22/train/Normal/169.jpg  \n",
            "  inflating: NewR22/train/Normal/17.jpg  \n",
            "  inflating: NewR22/train/Normal/170.jpg  \n",
            "  inflating: NewR22/train/Normal/171.jpg  \n",
            "  inflating: NewR22/train/Normal/174.jpg  \n",
            "  inflating: NewR22/train/Normal/176.jpg  \n",
            "  inflating: NewR22/train/Normal/179.jpg  \n",
            "  inflating: NewR22/train/Normal/18.jpg  \n",
            "  inflating: NewR22/train/Normal/180.jpg  \n",
            "  inflating: NewR22/train/Normal/181.jpg  \n",
            "  inflating: NewR22/train/Normal/182.jpg  \n",
            "  inflating: NewR22/train/Normal/184.jpg  \n",
            "  inflating: NewR22/train/Normal/185.jpg  \n",
            "  inflating: NewR22/train/Normal/186.jpg  \n",
            "  inflating: NewR22/train/Normal/187.jpg  \n",
            "  inflating: NewR22/train/Normal/189.jpg  \n",
            "  inflating: NewR22/train/Normal/19.jpg  \n",
            "  inflating: NewR22/train/Normal/190.jpg  \n",
            "  inflating: NewR22/train/Normal/191.jpg  \n",
            "  inflating: NewR22/train/Normal/192.jpg  \n",
            "  inflating: NewR22/train/Normal/193.jpg  \n",
            "  inflating: NewR22/train/Normal/194.jpg  \n",
            "  inflating: NewR22/train/Normal/195.jpg  \n",
            "  inflating: NewR22/train/Normal/196.jpg  \n",
            "  inflating: NewR22/train/Normal/197.jpg  \n",
            "  inflating: NewR22/train/Normal/198.jpg  \n",
            "  inflating: NewR22/train/Normal/199.jpg  \n",
            "  inflating: NewR22/train/Normal/2.jpg  \n",
            "  inflating: NewR22/train/Normal/20.jpg  \n",
            "  inflating: NewR22/train/Normal/200.jpg  \n",
            "  inflating: NewR22/train/Normal/201.jpg  \n",
            "  inflating: NewR22/train/Normal/202.jpg  \n",
            "  inflating: NewR22/train/Normal/203.jpg  \n",
            "  inflating: NewR22/train/Normal/206.jpg  \n",
            "  inflating: NewR22/train/Normal/207.jpg  \n",
            "  inflating: NewR22/train/Normal/209.jpg  \n",
            "  inflating: NewR22/train/Normal/21.jpg  \n",
            "  inflating: NewR22/train/Normal/215.jpg  \n",
            "  inflating: NewR22/train/Normal/217.jpg  \n",
            "  inflating: NewR22/train/Normal/218.jpg  \n",
            "  inflating: NewR22/train/Normal/219.jpg  \n",
            "  inflating: NewR22/train/Normal/22.jpg  \n",
            "  inflating: NewR22/train/Normal/220.jpg  \n",
            "  inflating: NewR22/train/Normal/222.jpg  \n",
            "  inflating: NewR22/train/Normal/224.jpg  \n",
            "  inflating: NewR22/train/Normal/228.jpg  \n",
            "  inflating: NewR22/train/Normal/229.jpg  \n",
            "  inflating: NewR22/train/Normal/23.jpg  \n",
            "  inflating: NewR22/train/Normal/231.jpg  \n",
            "  inflating: NewR22/train/Normal/234.jpg  \n",
            "  inflating: NewR22/train/Normal/235.jpg  \n",
            "  inflating: NewR22/train/Normal/236.jpg  \n",
            "  inflating: NewR22/train/Normal/238.jpg  \n",
            "  inflating: NewR22/train/Normal/239.jpg  \n",
            "  inflating: NewR22/train/Normal/24.jpg  \n",
            "  inflating: NewR22/train/Normal/240.jpg  \n",
            "  inflating: NewR22/train/Normal/242.jpg  \n",
            "  inflating: NewR22/train/Normal/243.jpg  \n",
            "  inflating: NewR22/train/Normal/244.jpg  \n",
            "  inflating: NewR22/train/Normal/245.jpg  \n",
            "  inflating: NewR22/train/Normal/246.jpg  \n",
            "  inflating: NewR22/train/Normal/247.jpg  \n",
            "  inflating: NewR22/train/Normal/248.jpg  \n",
            "  inflating: NewR22/train/Normal/25.jpg  \n",
            "  inflating: NewR22/train/Normal/251.jpg  \n",
            "  inflating: NewR22/train/Normal/256.jpg  \n",
            "  inflating: NewR22/train/Normal/257.jpg  \n",
            "  inflating: NewR22/train/Normal/258.jpg  \n",
            "  inflating: NewR22/train/Normal/259.jpg  \n",
            "  inflating: NewR22/train/Normal/26.jpg  \n",
            "  inflating: NewR22/train/Normal/27.jpg  \n",
            "  inflating: NewR22/train/Normal/28.jpg  \n",
            "  inflating: NewR22/train/Normal/3.jpg  \n",
            "  inflating: NewR22/train/Normal/32.jpg  \n",
            "  inflating: NewR22/train/Normal/33.jpg  \n",
            "  inflating: NewR22/train/Normal/34.jpg  \n",
            "  inflating: NewR22/train/Normal/37.jpg  \n",
            "  inflating: NewR22/train/Normal/38.jpg  \n",
            "  inflating: NewR22/train/Normal/39.jpg  \n",
            "  inflating: NewR22/train/Normal/4.jpg  \n",
            "  inflating: NewR22/train/Normal/40.jpg  \n",
            "  inflating: NewR22/train/Normal/42.jpg  \n",
            "  inflating: NewR22/train/Normal/43.jpg  \n",
            "  inflating: NewR22/train/Normal/44.jpg  \n",
            "  inflating: NewR22/train/Normal/45.jpg  \n",
            "  inflating: NewR22/train/Normal/46.jpg  \n",
            "  inflating: NewR22/train/Normal/47.jpg  \n",
            "  inflating: NewR22/train/Normal/48.jpg  \n",
            "  inflating: NewR22/train/Normal/49.jpg  \n",
            "  inflating: NewR22/train/Normal/51.jpg  \n",
            "  inflating: NewR22/train/Normal/52.jpg  \n",
            "  inflating: NewR22/train/Normal/53.jpg  \n",
            "  inflating: NewR22/train/Normal/55.jpg  \n",
            "  inflating: NewR22/train/Normal/58.jpg  \n",
            "  inflating: NewR22/train/Normal/584.jpg  \n",
            "  inflating: NewR22/train/Normal/585.jpg  \n",
            "  inflating: NewR22/train/Normal/586.jpg  \n",
            "  inflating: NewR22/train/Normal/587.jpg  \n",
            "  inflating: NewR22/train/Normal/588.jpg  \n",
            "  inflating: NewR22/train/Normal/589.jpg  \n",
            "  inflating: NewR22/train/Normal/59.jpg  \n",
            "  inflating: NewR22/train/Normal/590.jpg  \n",
            "  inflating: NewR22/train/Normal/591.jpg  \n",
            "  inflating: NewR22/train/Normal/593.jpg  \n",
            "  inflating: NewR22/train/Normal/594.jpg  \n",
            "  inflating: NewR22/train/Normal/595.jpg  \n",
            "  inflating: NewR22/train/Normal/596.jpg  \n",
            "  inflating: NewR22/train/Normal/597.jpg  \n",
            "  inflating: NewR22/train/Normal/598.jpg  \n",
            "  inflating: NewR22/train/Normal/599.jpg  \n",
            "  inflating: NewR22/train/Normal/601.jpg  \n",
            "  inflating: NewR22/train/Normal/602.jpg  \n",
            "  inflating: NewR22/train/Normal/603.jpg  \n",
            "  inflating: NewR22/train/Normal/605.jpg  \n",
            "  inflating: NewR22/train/Normal/606.jpg  \n",
            "  inflating: NewR22/train/Normal/61.jpg  \n",
            "  inflating: NewR22/train/Normal/611.jpg  \n",
            "  inflating: NewR22/train/Normal/612.jpg  \n",
            "  inflating: NewR22/train/Normal/613.jpg  \n",
            "  inflating: NewR22/train/Normal/614.jpg  \n",
            "  inflating: NewR22/train/Normal/616.jpg  \n",
            "  inflating: NewR22/train/Normal/619.jpg  \n",
            "  inflating: NewR22/train/Normal/62.jpg  \n",
            "  inflating: NewR22/train/Normal/620.jpg  \n",
            "  inflating: NewR22/train/Normal/621.jpg  \n",
            "  inflating: NewR22/train/Normal/624.jpg  \n",
            "  inflating: NewR22/train/Normal/625.jpg  \n",
            "  inflating: NewR22/train/Normal/63.jpg  \n",
            "  inflating: NewR22/train/Normal/632.jpg  \n",
            "  inflating: NewR22/train/Normal/633.jpg  \n",
            "  inflating: NewR22/train/Normal/634.jpg  \n",
            "  inflating: NewR22/train/Normal/636.jpg  \n",
            "  inflating: NewR22/train/Normal/65.jpg  \n",
            "  inflating: NewR22/train/Normal/66.jpg  \n",
            "  inflating: NewR22/train/Normal/67.jpg  \n",
            "  inflating: NewR22/train/Normal/7.jpg  \n",
            "  inflating: NewR22/train/Normal/70.jpg  \n",
            "  inflating: NewR22/train/Normal/71.jpg  \n",
            "  inflating: NewR22/train/Normal/73.jpg  \n",
            "  inflating: NewR22/train/Normal/76.jpg  \n",
            "  inflating: NewR22/train/Normal/78.jpg  \n",
            "  inflating: NewR22/train/Normal/8.jpg  \n",
            "  inflating: NewR22/train/Normal/81.jpg  \n",
            "  inflating: NewR22/train/Normal/82.jpg  \n",
            "  inflating: NewR22/train/Normal/83.jpg  \n",
            "  inflating: NewR22/train/Normal/84.jpg  \n",
            "  inflating: NewR22/train/Normal/85.jpg  \n",
            "  inflating: NewR22/train/Normal/86.jpg  \n",
            "  inflating: NewR22/train/Normal/87.jpg  \n",
            "  inflating: NewR22/train/Normal/88.jpg  \n",
            "  inflating: NewR22/train/Normal/89.jpg  \n",
            "  inflating: NewR22/train/Normal/90.jpg  \n",
            "  inflating: NewR22/train/Normal/91.jpg  \n",
            "  inflating: NewR22/train/Normal/92.jpg  \n",
            "  inflating: NewR22/train/Normal/93.jpg  \n",
            "  inflating: NewR22/train/Normal/94.jpg  \n",
            "  inflating: NewR22/train/Normal/95.jpg  \n",
            "  inflating: NewR22/train/Normal/96.jpg  \n",
            "  inflating: NewR22/train/Normal/97.jpg  \n",
            "  inflating: NewR22/train/Normal/98.jpg  \n",
            "  inflating: NewR22/train/Normal/99.jpg  \n"
          ]
        }
      ],
      "source": [
        "!unzip /content/NewR22.zip"
      ]
    },
    {
      "cell_type": "code",
      "execution_count": null,
      "metadata": {
        "colab": {
          "base_uri": "https://localhost:8080/"
        },
        "id": "pJOkXrfcMkS0",
        "outputId": "6327e75f-b134-4977-f6cd-a3faf7a1e85c"
      },
      "outputs": [
        {
          "name": "stdout",
          "output_type": "stream",
          "text": [
            "Image size: 224 x 224\n"
          ]
        }
      ],
      "source": [
        "\n",
        "import os\n",
        "from PIL import Image\n",
        "\n",
        "def get_image_size(image_path):\n",
        "    try:\n",
        "        img = Image.open(image_path)\n",
        "        width, height = img.size\n",
        "        return width, height\n",
        "    except FileNotFoundError:\n",
        "        return None, None\n",
        "    except Exception as e:\n",
        "        print(f\"An error occurred: {e}\")\n",
        "        return None, None\n",
        "\n",
        "\n",
        "width, height = get_image_size('/content/NewR22/test/Normal/28.jpg')\n",
        "\n",
        "if width is not None and height is not None:\n",
        "    print(f\"Image size: {width} x {height}\")\n",
        "else:\n",
        "    print(f\"Could not determine image size or file not found.\")\n"
      ]
    },
    {
      "cell_type": "markdown",
      "metadata": {
        "id": "8-8IDgeOPoYK"
      },
      "source": [
        "###RailTrack_Detection_VGG16_98.2%"
      ]
    },
    {
      "cell_type": "code",
      "execution_count": null,
      "metadata": {
        "colab": {
          "base_uri": "https://localhost:8080/"
        },
        "id": "U1QsqwJeMfNy",
        "outputId": "f70fe252-5e86-47d2-f96b-c55101694d45"
      },
      "outputs": [
        {
          "name": "stdout",
          "output_type": "stream",
          "text": [
            "Using device: cuda\n",
            "Training: VGG16\n"
          ]
        },
        {
          "name": "stderr",
          "output_type": "stream",
          "text": [
            "Epoch 1/20: 100%|██████████| 14/14 [00:07<00:00,  1.77it/s, loss=0.804]\n"
          ]
        },
        {
          "name": "stdout",
          "output_type": "stream",
          "text": [
            "Validation Accuracy: 81.98%\n"
          ]
        },
        {
          "name": "stderr",
          "output_type": "stream",
          "text": [
            "Epoch 2/20: 100%|██████████| 14/14 [00:07<00:00,  1.77it/s, loss=0.327]\n"
          ]
        },
        {
          "name": "stdout",
          "output_type": "stream",
          "text": [
            "Validation Accuracy: 95.50%\n"
          ]
        },
        {
          "name": "stderr",
          "output_type": "stream",
          "text": [
            "Epoch 3/20: 100%|██████████| 14/14 [00:08<00:00,  1.73it/s, loss=0.306]\n"
          ]
        },
        {
          "name": "stdout",
          "output_type": "stream",
          "text": [
            "Validation Accuracy: 90.99%\n"
          ]
        },
        {
          "name": "stderr",
          "output_type": "stream",
          "text": [
            "Epoch 4/20: 100%|██████████| 14/14 [00:08<00:00,  1.67it/s, loss=0.25]\n"
          ]
        },
        {
          "name": "stdout",
          "output_type": "stream",
          "text": [
            "Validation Accuracy: 98.20%\n"
          ]
        },
        {
          "name": "stderr",
          "output_type": "stream",
          "text": [
            "Epoch 5/20: 100%|██████████| 14/14 [00:08<00:00,  1.66it/s, loss=0.229]\n"
          ]
        },
        {
          "name": "stdout",
          "output_type": "stream",
          "text": [
            "Validation Accuracy: 96.40%\n"
          ]
        },
        {
          "name": "stderr",
          "output_type": "stream",
          "text": [
            "Epoch 6/20: 100%|██████████| 14/14 [00:08<00:00,  1.69it/s, loss=0.239]\n"
          ]
        },
        {
          "name": "stdout",
          "output_type": "stream",
          "text": [
            "Validation Accuracy: 90.09%\n"
          ]
        },
        {
          "name": "stderr",
          "output_type": "stream",
          "text": [
            "Epoch 7/20: 100%|██████████| 14/14 [00:07<00:00,  1.76it/s, loss=0.66]\n"
          ]
        },
        {
          "name": "stdout",
          "output_type": "stream",
          "text": [
            "Validation Accuracy: 94.59%\n"
          ]
        },
        {
          "name": "stderr",
          "output_type": "stream",
          "text": [
            "Epoch 8/20: 100%|██████████| 14/14 [00:07<00:00,  1.77it/s, loss=0.645]\n"
          ]
        },
        {
          "name": "stdout",
          "output_type": "stream",
          "text": [
            "Validation Accuracy: 90.09%\n"
          ]
        },
        {
          "name": "stderr",
          "output_type": "stream",
          "text": [
            "Epoch 9/20: 100%|██████████| 14/14 [00:07<00:00,  1.75it/s, loss=0.207]\n"
          ]
        },
        {
          "name": "stdout",
          "output_type": "stream",
          "text": [
            "Validation Accuracy: 96.40%\n"
          ]
        },
        {
          "name": "stderr",
          "output_type": "stream",
          "text": [
            "Epoch 10/20: 100%|██████████| 14/14 [00:07<00:00,  1.77it/s, loss=0.257]\n"
          ]
        },
        {
          "name": "stdout",
          "output_type": "stream",
          "text": [
            "Validation Accuracy: 92.79%\n"
          ]
        },
        {
          "name": "stderr",
          "output_type": "stream",
          "text": [
            "Epoch 11/20: 100%|██████████| 14/14 [00:07<00:00,  1.78it/s, loss=0.437]\n"
          ]
        },
        {
          "name": "stdout",
          "output_type": "stream",
          "text": [
            "Validation Accuracy: 95.50%\n"
          ]
        },
        {
          "name": "stderr",
          "output_type": "stream",
          "text": [
            "Epoch 12/20: 100%|██████████| 14/14 [00:07<00:00,  1.78it/s, loss=0.447]\n"
          ]
        },
        {
          "name": "stdout",
          "output_type": "stream",
          "text": [
            "Validation Accuracy: 95.50%\n"
          ]
        },
        {
          "name": "stderr",
          "output_type": "stream",
          "text": [
            "Epoch 13/20: 100%|██████████| 14/14 [00:08<00:00,  1.73it/s, loss=0.208]\n"
          ]
        },
        {
          "name": "stdout",
          "output_type": "stream",
          "text": [
            "Validation Accuracy: 98.20%\n"
          ]
        },
        {
          "name": "stderr",
          "output_type": "stream",
          "text": [
            "Epoch 14/20: 100%|██████████| 14/14 [00:07<00:00,  1.77it/s, loss=0.223]\n"
          ]
        },
        {
          "name": "stdout",
          "output_type": "stream",
          "text": [
            "Validation Accuracy: 97.30%\n"
          ]
        },
        {
          "name": "stderr",
          "output_type": "stream",
          "text": [
            "Epoch 15/20: 100%|██████████| 14/14 [00:07<00:00,  1.77it/s, loss=0.266]\n"
          ]
        },
        {
          "name": "stdout",
          "output_type": "stream",
          "text": [
            "Validation Accuracy: 97.30%\n"
          ]
        },
        {
          "name": "stderr",
          "output_type": "stream",
          "text": [
            "Epoch 16/20: 100%|██████████| 14/14 [00:08<00:00,  1.71it/s, loss=0.36]\n"
          ]
        },
        {
          "name": "stdout",
          "output_type": "stream",
          "text": [
            "Validation Accuracy: 97.30%\n"
          ]
        },
        {
          "name": "stderr",
          "output_type": "stream",
          "text": [
            "Epoch 17/20: 100%|██████████| 14/14 [00:07<00:00,  1.76it/s, loss=0.305]\n"
          ]
        },
        {
          "name": "stdout",
          "output_type": "stream",
          "text": [
            "Validation Accuracy: 97.30%\n"
          ]
        },
        {
          "name": "stderr",
          "output_type": "stream",
          "text": [
            "Epoch 18/20: 100%|██████████| 14/14 [00:07<00:00,  1.78it/s, loss=0.215]\n"
          ]
        },
        {
          "name": "stdout",
          "output_type": "stream",
          "text": [
            "Validation Accuracy: 97.30%\n"
          ]
        },
        {
          "name": "stderr",
          "output_type": "stream",
          "text": [
            "Epoch 19/20: 100%|██████████| 14/14 [00:07<00:00,  1.78it/s, loss=0.205]\n"
          ]
        },
        {
          "name": "stdout",
          "output_type": "stream",
          "text": [
            "Validation Accuracy: 97.30%\n"
          ]
        },
        {
          "name": "stderr",
          "output_type": "stream",
          "text": [
            "Epoch 20/20: 100%|██████████| 14/14 [00:07<00:00,  1.76it/s, loss=0.523]\n"
          ]
        },
        {
          "name": "stdout",
          "output_type": "stream",
          "text": [
            "Validation Accuracy: 97.30%\n",
            "Training: RESNET50\n"
          ]
        },
        {
          "name": "stderr",
          "output_type": "stream",
          "text": [
            "Epoch 1/20: 100%|██████████| 14/14 [00:05<00:00,  2.67it/s, loss=0.531]\n"
          ]
        },
        {
          "name": "stdout",
          "output_type": "stream",
          "text": [
            "Validation Accuracy: 73.87%\n"
          ]
        },
        {
          "name": "stderr",
          "output_type": "stream",
          "text": [
            "Epoch 2/20: 100%|██████████| 14/14 [00:05<00:00,  2.63it/s, loss=0.321]\n"
          ]
        },
        {
          "name": "stdout",
          "output_type": "stream",
          "text": [
            "Validation Accuracy: 90.99%\n"
          ]
        },
        {
          "name": "stderr",
          "output_type": "stream",
          "text": [
            "Epoch 3/20: 100%|██████████| 14/14 [00:05<00:00,  2.68it/s, loss=0.234]\n"
          ]
        },
        {
          "name": "stdout",
          "output_type": "stream",
          "text": [
            "Validation Accuracy: 93.69%\n"
          ]
        },
        {
          "name": "stderr",
          "output_type": "stream",
          "text": [
            "Epoch 4/20: 100%|██████████| 14/14 [00:05<00:00,  2.66it/s, loss=0.241]\n"
          ]
        },
        {
          "name": "stdout",
          "output_type": "stream",
          "text": [
            "Validation Accuracy: 96.40%\n"
          ]
        },
        {
          "name": "stderr",
          "output_type": "stream",
          "text": [
            "Epoch 5/20: 100%|██████████| 14/14 [00:05<00:00,  2.66it/s, loss=0.448]\n"
          ]
        },
        {
          "name": "stdout",
          "output_type": "stream",
          "text": [
            "Validation Accuracy: 96.40%\n"
          ]
        },
        {
          "name": "stderr",
          "output_type": "stream",
          "text": [
            "Epoch 6/20: 100%|██████████| 14/14 [00:05<00:00,  2.62it/s, loss=0.273]\n"
          ]
        },
        {
          "name": "stdout",
          "output_type": "stream",
          "text": [
            "Validation Accuracy: 98.20%\n"
          ]
        },
        {
          "name": "stderr",
          "output_type": "stream",
          "text": [
            "Epoch 7/20: 100%|██████████| 14/14 [00:05<00:00,  2.64it/s, loss=0.234]\n"
          ]
        },
        {
          "name": "stdout",
          "output_type": "stream",
          "text": [
            "Validation Accuracy: 98.20%\n"
          ]
        },
        {
          "name": "stderr",
          "output_type": "stream",
          "text": [
            "Epoch 8/20: 100%|██████████| 14/14 [00:05<00:00,  2.53it/s, loss=0.469]\n"
          ]
        },
        {
          "name": "stdout",
          "output_type": "stream",
          "text": [
            "Validation Accuracy: 98.20%\n"
          ]
        },
        {
          "name": "stderr",
          "output_type": "stream",
          "text": [
            "Epoch 9/20: 100%|██████████| 14/14 [00:05<00:00,  2.63it/s, loss=0.212]\n"
          ]
        },
        {
          "name": "stdout",
          "output_type": "stream",
          "text": [
            "Validation Accuracy: 97.30%\n"
          ]
        },
        {
          "name": "stderr",
          "output_type": "stream",
          "text": [
            "Epoch 10/20: 100%|██████████| 14/14 [00:05<00:00,  2.61it/s, loss=0.241]\n"
          ]
        },
        {
          "name": "stdout",
          "output_type": "stream",
          "text": [
            "Validation Accuracy: 96.40%\n"
          ]
        },
        {
          "name": "stderr",
          "output_type": "stream",
          "text": [
            "Epoch 11/20: 100%|██████████| 14/14 [00:05<00:00,  2.66it/s, loss=0.238]\n"
          ]
        },
        {
          "name": "stdout",
          "output_type": "stream",
          "text": [
            "Validation Accuracy: 98.20%\n"
          ]
        },
        {
          "name": "stderr",
          "output_type": "stream",
          "text": [
            "Epoch 12/20: 100%|██████████| 14/14 [00:05<00:00,  2.54it/s, loss=0.22]\n"
          ]
        },
        {
          "name": "stdout",
          "output_type": "stream",
          "text": [
            "Validation Accuracy: 98.20%\n"
          ]
        },
        {
          "name": "stderr",
          "output_type": "stream",
          "text": [
            "Epoch 13/20: 100%|██████████| 14/14 [00:05<00:00,  2.67it/s, loss=0.519]\n"
          ]
        },
        {
          "name": "stdout",
          "output_type": "stream",
          "text": [
            "Validation Accuracy: 97.30%\n"
          ]
        },
        {
          "name": "stderr",
          "output_type": "stream",
          "text": [
            "Epoch 14/20: 100%|██████████| 14/14 [00:05<00:00,  2.51it/s, loss=0.213]\n"
          ]
        },
        {
          "name": "stdout",
          "output_type": "stream",
          "text": [
            "Validation Accuracy: 94.59%\n"
          ]
        },
        {
          "name": "stderr",
          "output_type": "stream",
          "text": [
            "Epoch 15/20: 100%|██████████| 14/14 [00:05<00:00,  2.67it/s, loss=0.251]\n"
          ]
        },
        {
          "name": "stdout",
          "output_type": "stream",
          "text": [
            "Validation Accuracy: 95.50%\n"
          ]
        },
        {
          "name": "stderr",
          "output_type": "stream",
          "text": [
            "Epoch 16/20: 100%|██████████| 14/14 [00:05<00:00,  2.44it/s, loss=0.204]\n"
          ]
        },
        {
          "name": "stdout",
          "output_type": "stream",
          "text": [
            "Validation Accuracy: 95.50%\n"
          ]
        },
        {
          "name": "stderr",
          "output_type": "stream",
          "text": [
            "Epoch 17/20: 100%|██████████| 14/14 [00:05<00:00,  2.70it/s, loss=0.271]\n"
          ]
        },
        {
          "name": "stdout",
          "output_type": "stream",
          "text": [
            "Validation Accuracy: 97.30%\n"
          ]
        },
        {
          "name": "stderr",
          "output_type": "stream",
          "text": [
            "Epoch 18/20: 100%|██████████| 14/14 [00:05<00:00,  2.47it/s, loss=0.209]\n"
          ]
        },
        {
          "name": "stdout",
          "output_type": "stream",
          "text": [
            "Validation Accuracy: 95.50%\n"
          ]
        },
        {
          "name": "stderr",
          "output_type": "stream",
          "text": [
            "Epoch 19/20: 100%|██████████| 14/14 [00:05<00:00,  2.67it/s, loss=0.224]\n"
          ]
        },
        {
          "name": "stdout",
          "output_type": "stream",
          "text": [
            "Validation Accuracy: 97.30%\n"
          ]
        },
        {
          "name": "stderr",
          "output_type": "stream",
          "text": [
            "Epoch 20/20: 100%|██████████| 14/14 [00:05<00:00,  2.54it/s, loss=0.209]\n"
          ]
        },
        {
          "name": "stdout",
          "output_type": "stream",
          "text": [
            "Validation Accuracy: 96.40%\n",
            "Training: INCEPTION_V3\n"
          ]
        },
        {
          "name": "stderr",
          "output_type": "stream",
          "text": [
            "Epoch 1/20: 100%|██████████| 14/14 [00:07<00:00,  1.90it/s, loss=0.638]\n"
          ]
        },
        {
          "name": "stdout",
          "output_type": "stream",
          "text": [
            "Validation Accuracy: 87.39%\n"
          ]
        },
        {
          "name": "stderr",
          "output_type": "stream",
          "text": [
            "Epoch 2/20: 100%|██████████| 14/14 [00:07<00:00,  1.77it/s, loss=0.377]\n"
          ]
        },
        {
          "name": "stdout",
          "output_type": "stream",
          "text": [
            "Validation Accuracy: 90.99%\n"
          ]
        },
        {
          "name": "stderr",
          "output_type": "stream",
          "text": [
            "Epoch 3/20: 100%|██████████| 14/14 [00:07<00:00,  1.76it/s, loss=0.47]\n"
          ]
        },
        {
          "name": "stdout",
          "output_type": "stream",
          "text": [
            "Validation Accuracy: 94.59%\n"
          ]
        },
        {
          "name": "stderr",
          "output_type": "stream",
          "text": [
            "Epoch 4/20: 100%|██████████| 14/14 [00:07<00:00,  1.88it/s, loss=0.67]\n"
          ]
        },
        {
          "name": "stdout",
          "output_type": "stream",
          "text": [
            "Validation Accuracy: 93.69%\n"
          ]
        },
        {
          "name": "stderr",
          "output_type": "stream",
          "text": [
            "Epoch 5/20: 100%|██████████| 14/14 [00:07<00:00,  1.87it/s, loss=0.361]\n"
          ]
        },
        {
          "name": "stdout",
          "output_type": "stream",
          "text": [
            "Validation Accuracy: 92.79%\n"
          ]
        },
        {
          "name": "stderr",
          "output_type": "stream",
          "text": [
            "Epoch 6/20: 100%|██████████| 14/14 [00:08<00:00,  1.74it/s, loss=0.369]\n"
          ]
        },
        {
          "name": "stdout",
          "output_type": "stream",
          "text": [
            "Validation Accuracy: 91.89%\n"
          ]
        },
        {
          "name": "stderr",
          "output_type": "stream",
          "text": [
            "Epoch 7/20: 100%|██████████| 14/14 [00:07<00:00,  1.88it/s, loss=0.317]\n"
          ]
        },
        {
          "name": "stdout",
          "output_type": "stream",
          "text": [
            "Validation Accuracy: 91.89%\n"
          ]
        },
        {
          "name": "stderr",
          "output_type": "stream",
          "text": [
            "Epoch 8/20: 100%|██████████| 14/14 [00:07<00:00,  1.91it/s, loss=0.339]\n"
          ]
        },
        {
          "name": "stdout",
          "output_type": "stream",
          "text": [
            "Validation Accuracy: 93.69%\n"
          ]
        },
        {
          "name": "stderr",
          "output_type": "stream",
          "text": [
            "Epoch 9/20: 100%|██████████| 14/14 [00:07<00:00,  1.77it/s, loss=0.369]\n"
          ]
        },
        {
          "name": "stdout",
          "output_type": "stream",
          "text": [
            "Validation Accuracy: 90.09%\n"
          ]
        },
        {
          "name": "stderr",
          "output_type": "stream",
          "text": [
            "Epoch 10/20: 100%|██████████| 14/14 [00:07<00:00,  1.87it/s, loss=0.596]\n"
          ]
        },
        {
          "name": "stdout",
          "output_type": "stream",
          "text": [
            "Validation Accuracy: 91.89%\n"
          ]
        },
        {
          "name": "stderr",
          "output_type": "stream",
          "text": [
            "Epoch 11/20: 100%|██████████| 14/14 [00:07<00:00,  1.88it/s, loss=0.359]\n"
          ]
        },
        {
          "name": "stdout",
          "output_type": "stream",
          "text": [
            "Validation Accuracy: 92.79%\n"
          ]
        },
        {
          "name": "stderr",
          "output_type": "stream",
          "text": [
            "Epoch 12/20: 100%|██████████| 14/14 [00:08<00:00,  1.72it/s, loss=0.291]\n"
          ]
        },
        {
          "name": "stdout",
          "output_type": "stream",
          "text": [
            "Validation Accuracy: 91.89%\n"
          ]
        },
        {
          "name": "stderr",
          "output_type": "stream",
          "text": [
            "Epoch 13/20: 100%|██████████| 14/14 [00:07<00:00,  1.86it/s, loss=0.446]\n"
          ]
        },
        {
          "name": "stdout",
          "output_type": "stream",
          "text": [
            "Validation Accuracy: 91.89%\n"
          ]
        },
        {
          "name": "stderr",
          "output_type": "stream",
          "text": [
            "Epoch 14/20: 100%|██████████| 14/14 [00:07<00:00,  1.89it/s, loss=0.345]\n"
          ]
        },
        {
          "name": "stdout",
          "output_type": "stream",
          "text": [
            "Validation Accuracy: 91.89%\n"
          ]
        },
        {
          "name": "stderr",
          "output_type": "stream",
          "text": [
            "Epoch 15/20: 100%|██████████| 14/14 [00:08<00:00,  1.72it/s, loss=0.377]\n"
          ]
        },
        {
          "name": "stdout",
          "output_type": "stream",
          "text": [
            "Validation Accuracy: 92.79%\n"
          ]
        },
        {
          "name": "stderr",
          "output_type": "stream",
          "text": [
            "Epoch 16/20: 100%|██████████| 14/14 [00:07<00:00,  1.86it/s, loss=0.305]\n"
          ]
        },
        {
          "name": "stdout",
          "output_type": "stream",
          "text": [
            "Validation Accuracy: 91.89%\n"
          ]
        },
        {
          "name": "stderr",
          "output_type": "stream",
          "text": [
            "Epoch 17/20: 100%|██████████| 14/14 [00:07<00:00,  1.89it/s, loss=0.315]\n"
          ]
        },
        {
          "name": "stdout",
          "output_type": "stream",
          "text": [
            "Validation Accuracy: 91.89%\n"
          ]
        },
        {
          "name": "stderr",
          "output_type": "stream",
          "text": [
            "Epoch 18/20: 100%|██████████| 14/14 [00:08<00:00,  1.71it/s, loss=0.292]\n"
          ]
        },
        {
          "name": "stdout",
          "output_type": "stream",
          "text": [
            "Validation Accuracy: 91.89%\n"
          ]
        },
        {
          "name": "stderr",
          "output_type": "stream",
          "text": [
            "Epoch 19/20: 100%|██████████| 14/14 [00:07<00:00,  1.83it/s, loss=0.291]\n"
          ]
        },
        {
          "name": "stdout",
          "output_type": "stream",
          "text": [
            "Validation Accuracy: 91.89%\n"
          ]
        },
        {
          "name": "stderr",
          "output_type": "stream",
          "text": [
            "Epoch 20/20: 100%|██████████| 14/14 [00:07<00:00,  1.90it/s, loss=0.289]\n"
          ]
        },
        {
          "name": "stdout",
          "output_type": "stream",
          "text": [
            "Validation Accuracy: 91.89%\n",
            "Training: EFFICIENTNET_B0\n"
          ]
        },
        {
          "name": "stderr",
          "output_type": "stream",
          "text": [
            "Epoch 1/20: 100%|██████████| 14/14 [00:04<00:00,  3.18it/s, loss=0.592]\n"
          ]
        },
        {
          "name": "stdout",
          "output_type": "stream",
          "text": [
            "Validation Accuracy: 74.77%\n"
          ]
        },
        {
          "name": "stderr",
          "output_type": "stream",
          "text": [
            "Epoch 2/20: 100%|██████████| 14/14 [00:03<00:00,  4.15it/s, loss=0.5]\n"
          ]
        },
        {
          "name": "stdout",
          "output_type": "stream",
          "text": [
            "Validation Accuracy: 85.59%\n"
          ]
        },
        {
          "name": "stderr",
          "output_type": "stream",
          "text": [
            "Epoch 3/20: 100%|██████████| 14/14 [00:03<00:00,  4.13it/s, loss=0.332]\n"
          ]
        },
        {
          "name": "stdout",
          "output_type": "stream",
          "text": [
            "Validation Accuracy: 87.39%\n"
          ]
        },
        {
          "name": "stderr",
          "output_type": "stream",
          "text": [
            "Epoch 4/20: 100%|██████████| 14/14 [00:04<00:00,  3.22it/s, loss=0.239]\n"
          ]
        },
        {
          "name": "stdout",
          "output_type": "stream",
          "text": [
            "Validation Accuracy: 91.89%\n"
          ]
        },
        {
          "name": "stderr",
          "output_type": "stream",
          "text": [
            "Epoch 5/20: 100%|██████████| 14/14 [00:03<00:00,  4.10it/s, loss=0.248]\n"
          ]
        },
        {
          "name": "stdout",
          "output_type": "stream",
          "text": [
            "Validation Accuracy: 88.29%\n"
          ]
        },
        {
          "name": "stderr",
          "output_type": "stream",
          "text": [
            "Epoch 6/20: 100%|██████████| 14/14 [00:03<00:00,  4.04it/s, loss=0.311]\n"
          ]
        },
        {
          "name": "stdout",
          "output_type": "stream",
          "text": [
            "Validation Accuracy: 85.59%\n"
          ]
        },
        {
          "name": "stderr",
          "output_type": "stream",
          "text": [
            "Epoch 7/20: 100%|██████████| 14/14 [00:04<00:00,  3.08it/s, loss=0.312]\n"
          ]
        },
        {
          "name": "stdout",
          "output_type": "stream",
          "text": [
            "Validation Accuracy: 90.99%\n"
          ]
        },
        {
          "name": "stderr",
          "output_type": "stream",
          "text": [
            "Epoch 8/20: 100%|██████████| 14/14 [00:03<00:00,  4.16it/s, loss=0.268]\n"
          ]
        },
        {
          "name": "stdout",
          "output_type": "stream",
          "text": [
            "Validation Accuracy: 90.99%\n"
          ]
        },
        {
          "name": "stderr",
          "output_type": "stream",
          "text": [
            "Epoch 9/20: 100%|██████████| 14/14 [00:03<00:00,  4.11it/s, loss=0.616]\n"
          ]
        },
        {
          "name": "stdout",
          "output_type": "stream",
          "text": [
            "Validation Accuracy: 90.99%\n"
          ]
        },
        {
          "name": "stderr",
          "output_type": "stream",
          "text": [
            "Epoch 10/20: 100%|██████████| 14/14 [00:04<00:00,  3.10it/s, loss=0.237]\n"
          ]
        },
        {
          "name": "stdout",
          "output_type": "stream",
          "text": [
            "Validation Accuracy: 91.89%\n"
          ]
        },
        {
          "name": "stderr",
          "output_type": "stream",
          "text": [
            "Epoch 11/20: 100%|██████████| 14/14 [00:03<00:00,  4.11it/s, loss=0.559]\n"
          ]
        },
        {
          "name": "stdout",
          "output_type": "stream",
          "text": [
            "Validation Accuracy: 90.99%\n"
          ]
        },
        {
          "name": "stderr",
          "output_type": "stream",
          "text": [
            "Epoch 12/20: 100%|██████████| 14/14 [00:03<00:00,  4.12it/s, loss=0.683]\n"
          ]
        },
        {
          "name": "stdout",
          "output_type": "stream",
          "text": [
            "Validation Accuracy: 91.89%\n"
          ]
        },
        {
          "name": "stderr",
          "output_type": "stream",
          "text": [
            "Epoch 13/20: 100%|██████████| 14/14 [00:04<00:00,  3.13it/s, loss=0.258]\n"
          ]
        },
        {
          "name": "stdout",
          "output_type": "stream",
          "text": [
            "Validation Accuracy: 91.89%\n"
          ]
        },
        {
          "name": "stderr",
          "output_type": "stream",
          "text": [
            "Epoch 14/20: 100%|██████████| 14/14 [00:03<00:00,  4.02it/s, loss=0.219]\n"
          ]
        },
        {
          "name": "stdout",
          "output_type": "stream",
          "text": [
            "Validation Accuracy: 92.79%\n"
          ]
        },
        {
          "name": "stderr",
          "output_type": "stream",
          "text": [
            "Epoch 15/20: 100%|██████████| 14/14 [00:03<00:00,  4.00it/s, loss=0.278]\n"
          ]
        },
        {
          "name": "stdout",
          "output_type": "stream",
          "text": [
            "Validation Accuracy: 92.79%\n"
          ]
        },
        {
          "name": "stderr",
          "output_type": "stream",
          "text": [
            "Epoch 16/20: 100%|██████████| 14/14 [00:04<00:00,  3.15it/s, loss=0.235]\n"
          ]
        },
        {
          "name": "stdout",
          "output_type": "stream",
          "text": [
            "Validation Accuracy: 92.79%\n"
          ]
        },
        {
          "name": "stderr",
          "output_type": "stream",
          "text": [
            "Epoch 17/20: 100%|██████████| 14/14 [00:03<00:00,  4.19it/s, loss=0.378]\n"
          ]
        },
        {
          "name": "stdout",
          "output_type": "stream",
          "text": [
            "Validation Accuracy: 92.79%\n"
          ]
        },
        {
          "name": "stderr",
          "output_type": "stream",
          "text": [
            "Epoch 18/20: 100%|██████████| 14/14 [00:03<00:00,  4.09it/s, loss=0.351]\n"
          ]
        },
        {
          "name": "stdout",
          "output_type": "stream",
          "text": [
            "Validation Accuracy: 92.79%\n"
          ]
        },
        {
          "name": "stderr",
          "output_type": "stream",
          "text": [
            "Epoch 19/20: 100%|██████████| 14/14 [00:04<00:00,  3.18it/s, loss=0.456]\n"
          ]
        },
        {
          "name": "stdout",
          "output_type": "stream",
          "text": [
            "Validation Accuracy: 91.89%\n"
          ]
        },
        {
          "name": "stderr",
          "output_type": "stream",
          "text": [
            "Epoch 20/20: 100%|██████████| 14/14 [00:03<00:00,  4.19it/s, loss=0.247]\n"
          ]
        },
        {
          "name": "stdout",
          "output_type": "stream",
          "text": [
            "Validation Accuracy: 92.79%\n",
            "\n",
            "Final Results:\n",
            "VGG16          : 98.20%\n",
            "RESNET50       : 98.20%\n",
            "INCEPTION_V3   : 94.59%\n",
            "EFFICIENTNET_B0: 92.79%\n",
            "\n",
            "Best Model: VGG16 with 98.20% accuracy\n"
          ]
        }
      ],
      "source": [
        "# Standard libraries for file handling and numeric operations\n",
        "import os\n",
        "import torch\n",
        "import torch.nn as nn\n",
        "import torch.optim as optim\n",
        "from torchvision import datasets, transforms, models\n",
        "from torch.utils.data import DataLoader\n",
        "from torch.optim.lr_scheduler import CosineAnnealingLR\n",
        "from tqdm import tqdm\n",
        "import numpy as np\n",
        "\n",
        "# Enable GPU if available\n",
        "DEVICE = torch.device(\"cuda\" if torch.cuda.is_available() else \"cpu\")\n",
        "print(\"Using device:\", DEVICE)\n",
        "\n",
        "# Configuration parameters\n",
        "NUM_CLASSES = 2                 # Binary classification (Normal vs Defective)\n",
        "BATCH_SIZE = 32\n",
        "EPOCHS = 20 #50\n",
        "LR = 1e-4                       # Learning rate\n",
        "WEIGHT_DECAY = 0.01            # L2 regularization\n",
        "MODELS = ['vgg16', 'resnet50', 'inception_v3', 'efficientnet_b0']  # Model list\n",
        "\n",
        "# Data preprocessing and augmentation\n",
        "def get_transforms(model_name):\n",
        "    input_size = 299 if model_name == 'inception_v3' else 224  # Inception requires 299x299\n",
        "    return {\n",
        "        'train': transforms.Compose([\n",
        "            transforms.Resize((input_size, input_size)),              # Resize to model's expected size\n",
        "            transforms.RandomResizedCrop(input_size, scale=(0.8, 1.0)),  # Random crop\n",
        "            transforms.RandomHorizontalFlip(p=0.5),\n",
        "            transforms.RandomVerticalFlip(p=0.2),\n",
        "            transforms.RandomRotation(degrees=20),\n",
        "            transforms.ColorJitter(brightness=0.2, contrast=0.2),\n",
        "            transforms.GaussianBlur(kernel_size=3, sigma=(0.1, 2.0)),\n",
        "            transforms.ToTensor(),                                    # Convert to tensor\n",
        "            transforms.Normalize(mean=[0.485, 0.456, 0.406],          # Normalize using ImageNet stats\n",
        "                                 std=[0.229, 0.224, 0.225])\n",
        "        ]),\n",
        "        'test': transforms.Compose([\n",
        "            transforms.Resize((input_size, input_size)),\n",
        "            transforms.ToTensor(),\n",
        "            transforms.Normalize(mean=[0.485, 0.456, 0.406],\n",
        "                                 std=[0.229, 0.224, 0.225])\n",
        "        ])\n",
        "    }\n",
        "\n",
        "# Create and fine-tune a pre-trained model\n",
        "def create_model(name):\n",
        "    if name == 'vgg16':\n",
        "        model = models.vgg16(weights=models.VGG16_Weights.DEFAULT)\n",
        "        model.classifier[6] = nn.Linear(4096, NUM_CLASSES)\n",
        "    elif name == 'resnet50':\n",
        "        model = models.resnet50(weights=models.ResNet50_Weights.DEFAULT)\n",
        "        model.fc = nn.Linear(2048, NUM_CLASSES)\n",
        "    elif name == 'inception_v3':\n",
        "        model = models.inception_v3(weights=models.Inception_V3_Weights.DEFAULT, aux_logits=True)\n",
        "        model.fc = nn.Linear(2048, NUM_CLASSES)\n",
        "        model.AuxLogits.fc = nn.Linear(768, NUM_CLASSES)  # Auxiliary classifier used during training\n",
        "    elif name == 'efficientnet_b0':\n",
        "        model = models.efficientnet_b0(weights=models.EfficientNet_B0_Weights.DEFAULT)\n",
        "        model.classifier[1] = nn.Linear(1280, NUM_CLASSES)\n",
        "    else:\n",
        "        raise ValueError(\"Unsupported model\")\n",
        "    return model.to(DEVICE)\n",
        "\n",
        "# Training loop for a single model\n",
        "def train_model(model_name):\n",
        "    print(f\"Training: {model_name.upper()}\")\n",
        "    transforms_dict = get_transforms(model_name)\n",
        "\n",
        "    # Load dataset\n",
        "    train_dataset = datasets.ImageFolder('/content/NewR22/train', transform=transforms_dict['train'])\n",
        "    test_dataset = datasets.ImageFolder('/content/NewR22/test', transform=transforms_dict['test'])\n",
        "\n",
        "    # Prepare dataloaders\n",
        "    train_loader = DataLoader(train_dataset, batch_size=BATCH_SIZE, shuffle=True, num_workers=2)\n",
        "    test_loader = DataLoader(test_dataset, batch_size=BATCH_SIZE, shuffle=False, num_workers=2)\n",
        "\n",
        "    # Initialize model\n",
        "    model = create_model(model_name)\n",
        "    is_inception = model_name == 'inception_v3'\n",
        "    criterion = nn.CrossEntropyLoss(label_smoothing=0.1)\n",
        "    optimizer = optim.AdamW(model.parameters(), lr=LR, weight_decay=WEIGHT_DECAY)\n",
        "    scheduler = CosineAnnealingLR(optimizer, T_max=EPOCHS)\n",
        "\n",
        "    best_acc = 0.0  # Track best validation accuracy\n",
        "\n",
        "    for epoch in range(EPOCHS):\n",
        "        model.train()\n",
        "        epoch_loss = 0.0\n",
        "        pbar = tqdm(train_loader, desc=f'Epoch {epoch+1}/{EPOCHS}')\n",
        "\n",
        "        for inputs, labels in pbar:\n",
        "            inputs, labels = inputs.to(DEVICE), labels.to(DEVICE)\n",
        "\n",
        "            # MixUp augmentation\n",
        "            alpha = 0.2\n",
        "            lam = np.random.beta(alpha, alpha)\n",
        "            index = torch.randperm(inputs.size(0)).to(DEVICE)\n",
        "            mixed_inputs = lam * inputs + (1 - lam) * inputs[index]\n",
        "            labels_a, labels_b = labels, labels[index]\n",
        "\n",
        "            optimizer.zero_grad()\n",
        "\n",
        "            if is_inception:\n",
        "                # InceptionV3 returns a tuple (main_output, aux_output)\n",
        "                outputs, aux_outputs = model(mixed_inputs)\n",
        "                loss_main = lam * criterion(outputs, labels_a) + (1 - lam) * criterion(outputs, labels_b)\n",
        "                loss_aux = lam * criterion(aux_outputs, labels_a) + (1 - lam) * criterion(aux_outputs, labels_b)\n",
        "                loss = loss_main + 0.4 * loss_aux  # Combined loss\n",
        "            else:\n",
        "                outputs = model(mixed_inputs)\n",
        "                loss = lam * criterion(outputs, labels_a) + (1 - lam) * criterion(outputs, labels_b)\n",
        "\n",
        "            loss.backward()\n",
        "            nn.utils.clip_grad_norm_(model.parameters(), max_norm=1.0)  # Prevent exploding gradients\n",
        "            optimizer.step()\n",
        "\n",
        "            epoch_loss += loss.item()\n",
        "            pbar.set_postfix(loss=loss.item())\n",
        "\n",
        "        # Validation phase\n",
        "        model.eval()\n",
        "        correct, total = 0, 0\n",
        "        with torch.no_grad():\n",
        "            for inputs, labels in test_loader:\n",
        "                inputs, labels = inputs.to(DEVICE), labels.to(DEVICE)\n",
        "                outputs = model(inputs)\n",
        "                if isinstance(outputs, tuple):  # For InceptionV3\n",
        "                    outputs = outputs[0]\n",
        "                _, predicted = torch.max(outputs, 1)\n",
        "                total += labels.size(0)\n",
        "                correct += (predicted == labels).sum().item()\n",
        "\n",
        "        val_acc = 100 * correct / total\n",
        "        print(f\"Validation Accuracy: {val_acc:.2f}%\")\n",
        "\n",
        "        # Save the best model\n",
        "        if val_acc > best_acc:\n",
        "            best_acc = val_acc\n",
        "            torch.save(model.state_dict(), f'best_{model_name}.pth')\n",
        "\n",
        "        scheduler.step()\n",
        "\n",
        "    return best_acc\n",
        "\n",
        "# Train and evaluate all models\n",
        "results = {}\n",
        "for model_name in MODELS:\n",
        "    acc = train_model(model_name)\n",
        "    results[model_name] = acc\n",
        "\n",
        "# Print final results summary\n",
        "print(\"\\nFinal Results:\")\n",
        "for name, acc in results.items():\n",
        "    print(f\"{name.upper():<15}: {acc:.2f}%\")\n",
        "\n",
        "# Identify best model\n",
        "best_model = max(results, key=results.get)\n",
        "print(f\"\\nBest Model: {best_model.upper()} with {results[best_model]:.2f}% accuracy\")\n"
      ]
    },
    {
      "cell_type": "markdown",
      "metadata": {
        "id": "e0bC2JY9XkVp"
      },
      "source": [
        "1. Dataset Overview\n",
        "The Railway Track Misalignment Detection dataset consists of two image classes:\n",
        "Normal, Defective\n",
        "\n",
        "2. Pre-trained Networks Used\n",
        "We evaluated and fine-tuned the following ImageNet-pretrained models using torchvision.models:\n",
        "\n",
        "VGG16, ResNet50, InceptionV3, EfficientNet-B0\n",
        "\n",
        "3. Training Setup\n",
        "Data Augmentation:\n",
        "*  Resized to 224x224 (299x299 for InceptionV3)\n",
        "*  Random horizontal, vertical flips\n",
        "*  Random rotations (±15-30°)\n",
        "*  Gaussian Blur applied\n",
        "*  Color jittering\n",
        "*  Standard ImageNet normalization\n",
        "\n",
        "Training Details:\n",
        "\n",
        "* Optimizer: AdamW\n",
        "* Scheduler: CosineAnnealingLR\n",
        "* Loss Function: CrossEntropyLoss with label smoothing = 0.1\n",
        "* Regularization: MixUp (α = 0.2), Gradient Clipping\n",
        "* Epochs: 20\n",
        "* Batch Size: 32\n",
        "* Device: GPU (CUDA)\n",
        "\n",
        "4. Architecture Modifications\n",
        "\n",
        "| Model           | Final Layer Modified                                        |\n",
        "| --------------- | ----------------------------------------------------------- |\n",
        "| VGG16           | `classifier[6] → Linear(4096, 2)`                           |\n",
        "| ResNet50        | `fc → Linear(2048, 2)`                                      |\n",
        "| InceptionV3     | `fc → Linear(2048, 2)` <br> `AuxLogits.fc → Linear(768, 2)` |\n",
        "| EfficientNet-B0 | `classifier[1] → Linear(1280, 2)`                           |\n",
        "\n",
        "5. Performance Comparison\n",
        "\n",
        "| Model           | Validation Accuracy (%) |\n",
        "| --------------- | ----------------------- |\n",
        "| **VGG16**       | **98.20**✅ *(Best)*   |\n",
        "| ResNet50        | 98.20                   |\n",
        "| InceptionV3     | 94.59                   |\n",
        "| EfficientNet-B0 | 92.79                   |\n",
        "\n"
      ]
    }
  ],
  "metadata": {
    "accelerator": "GPU",
    "colab": {
      "gpuType": "T4",
      "provenance": []
    },
    "kernelspec": {
      "display_name": "Python 3",
      "name": "python3"
    },
    "language_info": {
      "name": "python"
    }
  },
  "nbformat": 4,
  "nbformat_minor": 0
}